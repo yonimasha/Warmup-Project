{
 "cells": [
  {
   "cell_type": "code",
   "execution_count": 1,
   "metadata": {},
   "outputs": [],
   "source": [
    "import re"
   ]
  },
  {
   "cell_type": "code",
   "execution_count": 63,
   "metadata": {},
   "outputs": [],
   "source": [
    "def help():\n",
    "    # print('The following you query is incorrect. Here are some tips and examples to help you.')\n",
    "    # I think we should have help be a keyword instead and just display errors when they query wrong\n",
    "\n",
    "    help_block = '''\n",
    "    \n",
    "    To exit program, type \"exit\".\n",
    "    \n",
    "    How to query:\n",
    "\n",
    "    1) Pick one or more from the following keywords:\n",
    "        - \"track\"\n",
    "        - \"artist\"\n",
    "        - \"genre\"\n",
    "        - \"released\" (date song released)\n",
    "        - \"subgenre\"\n",
    "\n",
    "    2) Select an operator (==, <, >).\n",
    "        - If you want to perform a compound query (e.g. you want to query against two statements) use \"and\" in between your statements on the same line\n",
    "\n",
    "    3) Examples:\n",
    "        - genre == rap \n",
    "        - subgenre == \"gangster rap\"\n",
    "        - genre == rap and subgenre == \"gangster rap\"\n",
    "    \n",
    "    '''\n",
    "    \n",
    "    print(help_block)\n",
    "\n",
    "def make_query(keyword, operator, query_info):\n",
    "    NotImplementedError()"
   ]
  },
  {
   "cell_type": "code",
   "execution_count": 13,
   "metadata": {},
   "outputs": [],
   "source": [
    "def parser(query):\n",
    "    # regex for operators, keywords\n",
    "    operator_pattern = r\"(==|>|<|\\band\\b)\"\n",
    "    keyword_pattern = r\"\\b(track|artist|genre|released|subgenre)\\b\"\n",
    "    \n",
    "    operators = re.findall(operator_pattern, query)\n",
    "    keywords = re.findall(keyword_pattern, query)\n",
    "    query_info = []\n",
    "    # creates lst of all possible tokens - splitting the query wherever one or more whitespace occur\n",
    "    tokens = re.split(r\"\\s+\", query)\n",
    "    for i, token in enumerate(tokens):\n",
    "        if token not in operators and token not in keywords:\n",
    "            query_info.append(token)\n",
    "            \n",
    "    print(f'Operators {operators}')\n",
    "    print(f'Keywords {keywords}')\n",
    "    print(f'Query info {query_info}')"
   ]
  },
  {
   "cell_type": "code",
   "execution_count": 15,
   "metadata": {},
   "outputs": [],
   "source": [
    "def parser(query):\n",
    "    # using split and list comprehensions for regex\n",
    "    operator_pattern = ['==', '>', '<', 'and']\n",
    "    keyword_pattern = [\"track\", \"artist\", \"genre\", \"released\", \"subgenre\"]\n",
    "    \n",
    "    split_lst = query.split(' ')\n",
    "    operators = [split for split in split_lst if split in operator_pattern]\n",
    "    keywords = [split for split in split_lst if split in keyword_pattern]\n",
    "    query_info = [split for split in split_lst if split not in keyword_pattern and split not in operator_pattern]\n",
    "\n",
    "    # pattern must go keyword operator query info. Unsure how big query info is. Could take up x amount of items in query info list. \n",
    "            \n",
    "    print(f'Operators {operators}')\n",
    "    print(f'Keywords {keywords}')\n",
    "    print(f'Query info {query_info}')"
   ]
  },
  {
   "cell_type": "code",
   "execution_count": 5,
   "metadata": {},
   "outputs": [
    {
     "name": "stdout",
     "output_type": "stream",
     "text": [
      "Operators ['==']\n",
      "Keywords ['subgenre']\n",
      "Query info ['gangster', 'rap']\n"
     ]
    }
   ],
   "source": [
    "if __name__ == \"__main__\":\n",
    "\n",
    "    # testing \n",
    "    query = 'subgenre == gangster rap'\n",
    "    parser(query)\n",
    "\n",
    "\n",
    "\n",
    "    '''\n",
    "    General workflow\n",
    "\n",
    "\n",
    "    # while user wants to keep querying\n",
    "    while True:\n",
    "        # let them give query \n",
    "        user_query = str(input(\"> \"))\n",
    "\n",
    "        # to stop queries\n",
    "        if user_query == 'done':\n",
    "            break\n",
    "        # send query to parser, get info to send to query\n",
    "        keyword, operator, query_info = parser(user_query)\n",
    "\n",
    "        # get result\n",
    "        result = make_query(keyword, operator, query_info)\n",
    "        \n",
    "        print(result)\n",
    "    '''\n",
    "    "
   ]
  },
  {
   "cell_type": "code",
   "execution_count": 67,
   "metadata": {},
   "outputs": [],
   "source": [
    "def test_cases(test_query):\n",
    "    # parser \n",
    "    if parser(test_query) == 'answer':\n",
    "        return True\n",
    "    else:\n",
    "        return False"
   ]
  }
 ],
 "metadata": {
  "kernelspec": {
   "display_name": "Python 3 (ipykernel)",
   "language": "python",
   "name": "python3"
  },
  "language_info": {
   "codemirror_mode": {
    "name": "ipython",
    "version": 3
   },
   "file_extension": ".py",
   "mimetype": "text/x-python",
   "name": "python",
   "nbconvert_exporter": "python",
   "pygments_lexer": "ipython3",
   "version": "3.12.4"
  }
 },
 "nbformat": 4,
 "nbformat_minor": 4
}
